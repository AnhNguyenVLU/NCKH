{
 "cells": [
  {
   "cell_type": "code",
   "execution_count": 1,
   "id": "f2a6d3fb",
   "metadata": {},
   "outputs": [],
   "source": [
    "import pandas, datetime, re"
   ]
  },
  {
   "cell_type": "code",
   "execution_count": 2,
   "id": "2d0f9214",
   "metadata": {},
   "outputs": [],
   "source": [
    "data = pandas.read_csv(\"D:/NCKH/Log files/DIT0090-05B0185-HK1_2020-2021_20210304-1826.csv\")"
   ]
  },
  {
   "cell_type": "code",
   "execution_count": 8,
   "id": "a9b7d7db",
   "metadata": {},
   "outputs": [],
   "source": [
    "def Cleansing(raw):\n",
    "    raw = raw.astype({\"Time\":\"datetime64\"})\n",
    "    column = list(raw.columns)\n",
    "    id_patterns = \"[0-9]+[A-Z]+[0-9]+\"\n",
    "    for row in range(len(raw)):\n",
    "        name = raw.iloc[row, column.index(\"User full name\")]\n",
    "        lstName = name.split(\"-\")\n",
    "        match = re.search(id_patterns, name)\n",
    "        if match:\n",
    "            raw.loc[row, \"ID\"] = match.group()\n",
    "\n",
    "            if len(lstName) < 3:\n",
    "                startInd = name.index(\" \")\n",
    "                endInd = name.rindex(\" \")\n",
    "                raw.loc[row, \"Name\"] = str(name[startInd : endInd].strip())\n",
    "\n",
    "            else:\n",
    "                raw.loc[row, \"Name\"] = str(lstName[1].strip())\n",
    "        else:\n",
    "            raw.loc[row, \"ID\"] = pandas.NaT\n",
    "            raw.loc[row, \"Name\"] = str(name)\n",
    "    return raw[['Time']+['ID']+['Name']+['Component']+['Event name']+['Event context']]"
   ]
  },
  {
   "cell_type": "code",
   "execution_count": 4,
   "id": "84b2f622",
   "metadata": {},
   "outputs": [],
   "source": [
    "data = Cleansing(pandas.read_csv(\"D:/NCKH/Log files/DIT0090-05B0185-HK1_2020-2021_20210304-1826.csv\"))\n",
    "lstCol = list(data.columns)\n",
    "data.to_csv(\"D:/cleansing.csv\", index=False)"
   ]
  },
  {
   "cell_type": "code",
   "execution_count": 64,
   "id": "91ef7cad",
   "metadata": {},
   "outputs": [],
   "source": [
    "assignment = data.loc[(data['Event name']=='A submission has been submitted.') & (data['Event context']=='Assignment: Nhóm IT02_nộp kết quả tìm hiểu chủ đề thực hành LAB trên Microsoft_Docs_buổi thực hành 7')].sort_values(['Time'])\n",
    "lstCol = list(data.columns)"
   ]
  },
  {
   "cell_type": "code",
   "execution_count": 16,
   "id": "2e7260b2",
   "metadata": {},
   "outputs": [
    {
     "name": "stdout",
     "output_type": "stream",
     "text": [
      "2020-06-11 00:00:00 2020-09-11 00:00:00\n"
     ]
    }
   ],
   "source": [
    "start = assignment.sort_values([\"Time\"], ascending=True).iloc[0, lstCol.index(\"Time\")]\n",
    "end = assignment.sort_values([\"Time\"], ascending=False).iloc[0, lstCol.index(\"Time\")]\n",
    "print(start, end)"
   ]
  },
  {
   "cell_type": "code",
   "execution_count": 19,
   "id": "59417669",
   "metadata": {},
   "outputs": [],
   "source": [
    "period = (end-start).days // 10\n",
    "lstLabels = []\n",
    "lstX = []\n",
    "lstY = []\n",
    "while start<end:\n",
    "    time = start + datetime.timedelta(days=period)\n",
    "    lstX.append((start, time))\n",
    "    lstY.append(len(assignment.loc[(assignment[\"Time\"]<time)&(assignment[\"Time\"]>=start)]))\n",
    "    lstLabels.append(str(start.date()))\n",
    "    start = time"
   ]
  },
  {
   "cell_type": "code",
   "execution_count": 20,
   "id": "918d89f4",
   "metadata": {},
   "outputs": [],
   "source": [
    "import matplotlib.pyplot as plt"
   ]
  },
  {
   "cell_type": "code",
   "execution_count": 21,
   "id": "227ca18d",
   "metadata": {},
   "outputs": [
    {
     "data": {
      "image/png": "[encoded data removed]",
      "text/plain": [
       "<Figure size 432x288 with 1 Axes>"
      ]
     },
     "metadata": {
      "needs_background": "light"
     },
     "output_type": "display_data"
    }
   ],
   "source": [
    "# Number of students doing specific activity according to time\n",
    "plt.bar(lstLabels, lstY)\n",
    "plt.xticks(rotation=60)\n",
    "plt.tight_layout()\n",
    "plt.title(\"File: 4. ĐỀ CƯƠNG CHI TIẾT:\")\n",
    "plt.show()"
   ]
  },
  {
   "cell_type": "code",
   "execution_count": 6,
   "id": "b6dac749",
   "metadata": {},
   "outputs": [],
   "source": [
    "component = dict(data.loc[data[\"ID\"].notnull()].groupby([\"Component\"]).count()[\"ID\"])"
   ]
  },
  {
   "cell_type": "code",
   "execution_count": 38,
   "id": "5d24d231",
   "metadata": {},
   "outputs": [
    {
     "ename": "RuntimeError",
     "evalue": "dictionary changed size during iteration",
     "output_type": "error",
     "traceback": [
      "\u001b[1;31m---------------------------------------------------------------------------\u001b[0m",
      "\u001b[1;31mRuntimeError\u001b[0m                              Traceback (most recent call last)",
      "\u001b[1;32m<ipython-input-38-61072c8eba45>\u001b[0m in \u001b[0;36m<module>\u001b[1;34m\u001b[0m\n\u001b[0;32m      1\u001b[0m \u001b[0mmedian\u001b[0m \u001b[1;33m=\u001b[0m \u001b[0msum\u001b[0m\u001b[1;33m(\u001b[0m\u001b[0mlist\u001b[0m\u001b[1;33m(\u001b[0m\u001b[0mcomponent\u001b[0m\u001b[1;33m.\u001b[0m\u001b[0mvalues\u001b[0m\u001b[1;33m(\u001b[0m\u001b[1;33m)\u001b[0m\u001b[1;33m)\u001b[0m\u001b[1;33m)\u001b[0m\u001b[1;33m/\u001b[0m\u001b[0mlen\u001b[0m\u001b[1;33m(\u001b[0m\u001b[0mcomponent\u001b[0m\u001b[1;33m.\u001b[0m\u001b[0mkeys\u001b[0m\u001b[1;33m(\u001b[0m\u001b[1;33m)\u001b[0m\u001b[1;33m)\u001b[0m\u001b[1;33m\u001b[0m\u001b[1;33m\u001b[0m\u001b[0m\n\u001b[0;32m      2\u001b[0m \u001b[0motherNum\u001b[0m \u001b[1;33m=\u001b[0m \u001b[1;36m0\u001b[0m\u001b[1;33m\u001b[0m\u001b[1;33m\u001b[0m\u001b[0m\n\u001b[1;32m----> 3\u001b[1;33m \u001b[1;32mfor\u001b[0m \u001b[0mkey\u001b[0m\u001b[1;33m,\u001b[0m \u001b[0mvalue\u001b[0m \u001b[1;32min\u001b[0m \u001b[0mcomponent\u001b[0m\u001b[1;33m.\u001b[0m\u001b[0mitems\u001b[0m\u001b[1;33m(\u001b[0m\u001b[1;33m)\u001b[0m\u001b[1;33m:\u001b[0m\u001b[1;33m\u001b[0m\u001b[1;33m\u001b[0m\u001b[0m\n\u001b[0m\u001b[0;32m      4\u001b[0m     \u001b[1;32mif\u001b[0m \u001b[0mvalue\u001b[0m \u001b[1;33m<\u001b[0m \u001b[0mmedian\u001b[0m\u001b[1;33m:\u001b[0m\u001b[1;33m\u001b[0m\u001b[1;33m\u001b[0m\u001b[0m\n\u001b[0;32m      5\u001b[0m         \u001b[0motherNum\u001b[0m \u001b[1;33m+=\u001b[0m \u001b[0mcomponent\u001b[0m\u001b[1;33m.\u001b[0m\u001b[0mpop\u001b[0m\u001b[1;33m(\u001b[0m\u001b[0mkey\u001b[0m\u001b[1;33m)\u001b[0m\u001b[1;33m\u001b[0m\u001b[1;33m\u001b[0m\u001b[0m\n",
      "\u001b[1;31mRuntimeError\u001b[0m: dictionary changed size during iteration"
     ]
    }
   ],
   "source": [
    "otherNum = 0\n",
    "lstY = []\n",
    "lstX = []\n",
    "for key, values in component.items():\n",
    "    if lstY\n",
    "\n",
    "\n",
    "plt.pie(list(component.values()), labels=list(component.keys()), startangle=90)\n",
    "plt.show()"
   ]
  },
  {
   "cell_type": "code",
   "execution_count": 23,
   "id": "93f95fdc",
   "metadata": {},
   "outputs": [
    {
     "data": {
      "text/plain": [
       "[(Timestamp('2020-06-11 00:00:00'), Timestamp('2020-06-20 00:00:00')),\n",
       " (Timestamp('2020-06-20 00:00:00'), Timestamp('2020-06-29 00:00:00')),\n",
       " (Timestamp('2020-06-29 00:00:00'), Timestamp('2020-07-08 00:00:00')),\n",
       " (Timestamp('2020-07-08 00:00:00'), Timestamp('2020-07-17 00:00:00')),\n",
       " (Timestamp('2020-07-17 00:00:00'), Timestamp('2020-07-26 00:00:00')),\n",
       " (Timestamp('2020-07-26 00:00:00'), Timestamp('2020-08-04 00:00:00')),\n",
       " (Timestamp('2020-08-04 00:00:00'), Timestamp('2020-08-13 00:00:00')),\n",
       " (Timestamp('2020-08-13 00:00:00'), Timestamp('2020-08-22 00:00:00')),\n",
       " (Timestamp('2020-08-22 00:00:00'), Timestamp('2020-08-31 00:00:00')),\n",
       " (Timestamp('2020-08-31 00:00:00'), Timestamp('2020-09-09 00:00:00')),\n",
       " (Timestamp('2020-09-09 00:00:00'), Timestamp('2020-09-18 00:00:00'))]"
      ]
     },
     "execution_count": 23,
     "metadata": {},
     "output_type": "execute_result"
    }
   ],
   "source": [
    "lstX"
   ]
  },
  {
   "cell_type": "code",
   "execution_count": 47,
   "id": "46d49e32",
   "metadata": {},
   "outputs": [
    {
     "data": {
      "text/html": [
       "<div>\n",
       "<style scoped>\n",
       "    .dataframe tbody tr th:only-of-type {\n",
       "        vertical-align: middle;\n",
       "    }\n",
       "\n",
       "    .dataframe tbody tr th {\n",
       "        vertical-align: top;\n",
       "    }\n",
       "\n",
       "    .dataframe thead th {\n",
       "        text-align: right;\n",
       "    }\n",
       "</style>\n",
       "<table border=\"1\" class=\"dataframe\">\n",
       "  <thead>\n",
       "    <tr style=\"text-align: right;\">\n",
       "      <th></th>\n",
       "      <th>ID</th>\n",
       "      <th>Name</th>\n",
       "      <th>Component</th>\n",
       "      <th>Event name</th>\n",
       "      <th>Event context</th>\n",
       "    </tr>\n",
       "    <tr>\n",
       "      <th>Time</th>\n",
       "      <th></th>\n",
       "      <th></th>\n",
       "      <th></th>\n",
       "      <th></th>\n",
       "      <th></th>\n",
       "    </tr>\n",
       "  </thead>\n",
       "  <tbody>\n",
       "    <tr>\n",
       "      <th>2020-10-15</th>\n",
       "      <td>848</td>\n",
       "      <td>848</td>\n",
       "      <td>848</td>\n",
       "      <td>848</td>\n",
       "      <td>848</td>\n",
       "    </tr>\n",
       "    <tr>\n",
       "      <th>2020-10-16</th>\n",
       "      <td>2</td>\n",
       "      <td>2</td>\n",
       "      <td>2</td>\n",
       "      <td>2</td>\n",
       "      <td>2</td>\n",
       "    </tr>\n",
       "  </tbody>\n",
       "</table>\n",
       "</div>"
      ],
      "text/plain": [
       "             ID  Name  Component  Event name  Event context\n",
       "Time                                                       \n",
       "2020-10-15  848   848        848         848            848\n",
       "2020-10-16    2     2          2           2              2"
      ]
     },
     "execution_count": 47,
     "metadata": {},
     "output_type": "execute_result"
    }
   ],
   "source": [
    "assignment.groupby([\"Time\"]).count()"
   ]
  },
  {
   "cell_type": "code",
   "execution_count": 2,
   "id": "201894ff",
   "metadata": {},
   "outputs": [],
   "source": [
    "data = pandas.read_csv(\"D:/cleansing.csv\")"
   ]
  },
  {
   "cell_type": "code",
   "execution_count": 3,
   "id": "a2eabe6a",
   "metadata": {},
   "outputs": [],
   "source": [
    "import matplotlib.pyplot as plt"
   ]
  },
  {
   "cell_type": "code",
   "execution_count": 5,
   "id": "f5fdc4ae",
   "metadata": {},
   "outputs": [],
   "source": [
    "data = data.astype({\"Time\":\"datetime64\"})"
   ]
  },
  {
   "cell_type": "code",
   "execution_count": 30,
   "id": "fc921ad5",
   "metadata": {
    "scrolled": true
   },
   "outputs": [],
   "source": [
    "lstStd = data.loc[data['ID'].notnull()]['ID'].unique().tolist()\n",
    "lstDone = data.loc[(data['Event name']=='A submission has been submitted.') & (data['Event context']=='Assignment: Nhóm IT02_nộp kết quả tìm hiểu chủ đề thực hành LAB trên Microsoft_Docs_buổi thực hành 7')]['ID'].unique().tolist()"
   ]
  },
  {
   "cell_type": "code",
   "execution_count": 39,
   "id": "4e83c570",
   "metadata": {},
   "outputs": [],
   "source": [
    "lstNot = list(filter(lambda x: x not in lstDone, lstStd))"
   ]
  },
  {
   "cell_type": "code",
   "execution_count": 99,
   "id": "56e2ade6",
   "metadata": {},
   "outputs": [],
   "source": [
    "# Students not do activities\n",
    "def NotDo(data, condition):\n",
    "    lstStd = data.loc[data['ID'].notnull()]['ID'].unique().tolist()\n",
    "    lstDone = data.loc[condition]['ID'].unique().tolist()\n",
    "    lstNot = list(filter(lambda x: x not in lstDone, lstStd))\n",
    "#     dctCourse = {\"other\":[]}\n",
    "#     for std in lstNot:\n",
    "#         try:\n",
    "#             if int(std[:3]) not in dctCourse:\n",
    "#                 dctCourse[int(std[:3])] = [std]\n",
    "#             else:\n",
    "#                 dctCourse[int(std[:3])].append(std)\n",
    "#         except:\n",
    "#             dctCourse[\"other\"].append(std)\n",
    "    return lstNot\n",
    "# Sent notification for these students about the incomplete activities"
   ]
  },
  {
   "cell_type": "code",
   "execution_count": 59,
   "id": "8adc2796",
   "metadata": {},
   "outputs": [
    {
     "data": {
      "text/plain": [
       "['Assignment: Nộp Báo cáo thực hành LAB - Nhóm IT01 Ca 3 &amp; Ca 4 - 13g00 - 15g25 &amp; 15g35 - 18g00  Thứ Tư',\n",
       " 'Assignment: Nộp báo cáo cá nhân_nhóm thực hành IT02-02 (ca4:15g30) học chiều thứ 6',\n",
       " 'Assignment: Nộp file báo cáo cá nhân hoàn thiện',\n",
       " 'Assignment: Nộp báo cáo cá nhân_nhóm thực hành IT02-01 (ca3:13g00) học chiều thứ 6',\n",
       " 'Quiz: Thi trắc nghiệm cuối kỳ ngày 8/12/2020',\n",
       " 'Quiz: Thi trắc nghiệm cuối kỳ ngày 9/12/2020 - ca 13g30',\n",
       " 'Quiz: Quiz 4',\n",
       " 'Quiz: Quiz 2_25T-IT02_p.9.4',\n",
       " 'Quiz: Quiz 1_nhóm K25-IT02',\n",
       " 'Quiz: Thi Giữa Kỳ - ngày 5/11/2020-ca2_ 9g30- nhóm 25T- IT02-môn các nền tảng PTPM',\n",
       " 'Quiz: Thi Giữa Kỳ - ngày 3/11/2020-CA 2_ 9g30_môn Các nền tảng PTPM-25T-IT',\n",
       " 'Quiz: Thi Giữa Kỳ - ngày 3/11/2020-CA 1_ 7g30_môn Các nền tảng PTPM-25T-IT',\n",
       " 'Assignment: Nộp kết quả tìm hiểu chủ đề thực hành LAB trên Microsoft_Docs, sử dụng tài khoản cá nhân (chụp màn hình)',\n",
       " 'Quiz: Đề thi thử Cuối Kỳ',\n",
       " 'Quiz: thi thử GK',\n",
       " 'Quiz: Thi thử Giữa kỳ',\n",
       " 'Assignment: Nộp bài thực hành buổi 4_nhóm 25T-IT02 - lớp thực hành tổ 1,2',\n",
       " 'Assignment: Nhóm IT02_nộp kết quả tìm hiểu chủ đề thực hành LAB trên Microsoft_Docs_buổi thực hành 7',\n",
       " 'Quiz: Test',\n",
       " 'Other',\n",
       " 'Quiz: Quiz 3_GCP',\n",
       " 'Assignment: Nộp bài TH buổi 3_nhóm IT02',\n",
       " 'Assignment: Nộp bài đọc hiểu File hd tạo và dùng TK AWS_nhóm TH IT02- tiết 7,10_02/10/2020']"
      ]
     },
     "execution_count": 59,
     "metadata": {},
     "output_type": "execute_result"
    }
   ],
   "source": [
    "lstAssign = data.loc[(data['Component']=='Quiz') | (data['Component']=='Assignment')]['Event context'].unique().tolist()\n",
    "lstAssign"
   ]
  },
  {
   "cell_type": "code",
   "execution_count": 96,
   "id": "23c94522",
   "metadata": {},
   "outputs": [],
   "source": [
    "result = {}\n",
    "for item in lstAssign:\n",
    "    condition = (data['Event name']=='A submission has been submitted.') & (data['Event context']==item)\n",
    "    result[item] = NotDo(data, condition)"
   ]
  },
  {
   "cell_type": "code",
   "execution_count": 97,
   "id": "7f9f0aea",
   "metadata": {},
   "outputs": [],
   "source": [
    "lstStd = result['Quiz: Thi Giữa Kỳ - ngày 5/11/2020-ca2_ 9g30- nhóm 25T- IT02-môn các nền tảng PTPM']\n",
    "for i in range(len(lstStd)):\n",
    "    lstStd[i] += ' ' + str(data.loc[data['ID']==lstStd[i]].iloc[0, lstCol.index('Name')])"
   ]
  },
  {
   "cell_type": "code",
   "execution_count": 101,
   "id": "5dec9c17",
   "metadata": {},
   "outputs": [
    {
     "data": {
      "text/plain": [
       "24"
      ]
     },
     "execution_count": 101,
     "metadata": {},
     "output_type": "execute_result"
    }
   ],
   "source": [
    "eval(\"12 * 2\")"
   ]
  },
  {
   "cell_type": "code",
   "execution_count": 1,
   "id": "ce136f60",
   "metadata": {},
   "outputs": [],
   "source": [
    "import pandas, re, datetime, os"
   ]
  },
  {
   "cell_type": "code",
   "execution_count": 2,
   "id": "5cc678a7",
   "metadata": {},
   "outputs": [],
   "source": [
    "data = pandas.read_csv(\"D:/cleansing.csv\")"
   ]
  },
  {
   "cell_type": "code",
   "execution_count": 43,
   "id": "4ce623d2",
   "metadata": {},
   "outputs": [],
   "source": [
    "pieData = dict(data.groupby([\"Component\"]).count()[\"Name\"])"
   ]
  },
  {
   "cell_type": "code",
   "execution_count": 44,
   "id": "0c9d6e25",
   "metadata": {},
   "outputs": [],
   "source": [
    "import matplotlib.pyplot as plt"
   ]
  },
  {
   "cell_type": "code",
   "execution_count": 45,
   "id": "5c538c67",
   "metadata": {},
   "outputs": [],
   "source": [
    "pieData = {k: v for k, v in sorted(pieData.items(), key=lambda item: item[1], reverse=True)}"
   ]
  },
  {
   "cell_type": "code",
   "execution_count": 46,
   "id": "5e25be97",
   "metadata": {},
   "outputs": [],
   "source": [
    "other = 0\n",
    "while len(pieData) >10:\n",
    "    other += pieData.popitem()[-1]"
   ]
  },
  {
   "cell_type": "code",
   "execution_count": 47,
   "id": "4ecb432c",
   "metadata": {},
   "outputs": [],
   "source": [
    "pieData[\"Other\"] = other"
   ]
  },
  {
   "cell_type": "code",
   "execution_count": 48,
   "id": "5e9e8177",
   "metadata": {},
   "outputs": [
    {
     "data": {
      "image/png": "[encoded data removed]",
      "text/plain": [
       "<Figure size 432x288 with 1 Axes>"
      ]
     },
     "metadata": {},
     "output_type": "display_data"
    }
   ],
   "source": [
    "plt.pie(list(pieData.values()), labels = list(pieData.keys()), startangle=90)\n",
    "plt.show()"
   ]
  },
  {
   "cell_type": "code",
   "execution_count": 57,
   "id": "9b72ebf1",
   "metadata": {},
   "outputs": [],
   "source": [
    "dataTea = data.loc[data[\"ID\"].isnull() & data[\"Name\"].notnull()]"
   ]
  },
  {
   "cell_type": "code",
   "execution_count": 60,
   "id": "3ef3193f",
   "metadata": {},
   "outputs": [
    {
     "data": {
      "text/plain": [
       "Name\n",
       "-                         1240\n",
       "Bùi Minh Phụng               2\n",
       "Hoàng Lê Minh              591\n",
       "Huỳnh Thị Tuyết Minh        30\n",
       "Hà Đồng Hưng               104\n",
       "Nguyễn Thu Nguyệt Minh       4\n",
       "PHAM VUONG ANH               1\n",
       "Phan Hồ Viết Trường        159\n",
       "Trần Kim Mỹ Vân           4999\n",
       "Trần Ngọc Việt             213\n",
       "Name: Event context, dtype: int64"
      ]
     },
     "execution_count": 60,
     "metadata": {},
     "output_type": "execute_result"
    }
   ],
   "source": [
    "dataTea.sort_values(\"Time\").groupby([\"Name\"]).count()[\"Event context\"]"
   ]
  },
  {
   "cell_type": "code",
   "execution_count": 63,
   "id": "83fc3fa2",
   "metadata": {},
   "outputs": [
    {
     "data": {
      "text/html": [
       "<div>\n",
       "<style scoped>\n",
       "    .dataframe tbody tr th:only-of-type {\n",
       "        vertical-align: middle;\n",
       "    }\n",
       "\n",
       "    .dataframe tbody tr th {\n",
       "        vertical-align: top;\n",
       "    }\n",
       "\n",
       "    .dataframe thead th {\n",
       "        text-align: right;\n",
       "    }\n",
       "</style>\n",
       "<table border=\"1\" class=\"dataframe\">\n",
       "  <thead>\n",
       "    <tr style=\"text-align: right;\">\n",
       "      <th></th>\n",
       "      <th>Time</th>\n",
       "      <th>ID</th>\n",
       "      <th>Name</th>\n",
       "      <th>Component</th>\n",
       "      <th>Event name</th>\n",
       "      <th>Event context</th>\n",
       "    </tr>\n",
       "  </thead>\n",
       "  <tbody>\n",
       "    <tr>\n",
       "      <th>21492</th>\n",
       "      <td>2020-06-12</td>\n",
       "      <td>NaN</td>\n",
       "      <td>Hoàng Lê Minh</td>\n",
       "      <td>Assignment</td>\n",
       "      <td>All the submissions are being downloaded.</td>\n",
       "      <td>Assignment: Nộp file báo cáo cá nhân hoàn thiện</td>\n",
       "    </tr>\n",
       "    <tr>\n",
       "      <th>21496</th>\n",
       "      <td>2020-06-12</td>\n",
       "      <td>NaN</td>\n",
       "      <td>Hoàng Lê Minh</td>\n",
       "      <td>Assignment</td>\n",
       "      <td>All the submissions are being downloaded.</td>\n",
       "      <td>Assignment: Nộp file báo cáo cá nhân hoàn thiện</td>\n",
       "    </tr>\n",
       "    <tr>\n",
       "      <th>21516</th>\n",
       "      <td>2020-06-12</td>\n",
       "      <td>NaN</td>\n",
       "      <td>Hoàng Lê Minh</td>\n",
       "      <td>Assignment</td>\n",
       "      <td>All the submissions are being downloaded.</td>\n",
       "      <td>Assignment: Nộp file báo cáo cá nhân hoàn thiện</td>\n",
       "    </tr>\n",
       "    <tr>\n",
       "      <th>21534</th>\n",
       "      <td>2020-06-12</td>\n",
       "      <td>NaN</td>\n",
       "      <td>Hoàng Lê Minh</td>\n",
       "      <td>Assignment</td>\n",
       "      <td>All the submissions are being downloaded.</td>\n",
       "      <td>Assignment: Nộp file báo cáo cá nhân hoàn thiện</td>\n",
       "    </tr>\n",
       "    <tr>\n",
       "      <th>21539</th>\n",
       "      <td>2020-06-12</td>\n",
       "      <td>NaN</td>\n",
       "      <td>Hoàng Lê Minh</td>\n",
       "      <td>Assignment</td>\n",
       "      <td>All the submissions are being downloaded.</td>\n",
       "      <td>Assignment: Nộp file báo cáo cá nhân hoàn thiện</td>\n",
       "    </tr>\n",
       "    <tr>\n",
       "      <th>21541</th>\n",
       "      <td>2020-06-12</td>\n",
       "      <td>NaN</td>\n",
       "      <td>Hoàng Lê Minh</td>\n",
       "      <td>Assignment</td>\n",
       "      <td>All the submissions are being downloaded.</td>\n",
       "      <td>Assignment: Nộp file báo cáo cá nhân hoàn thiện</td>\n",
       "    </tr>\n",
       "    <tr>\n",
       "      <th>27210</th>\n",
       "      <td>2020-01-12</td>\n",
       "      <td>NaN</td>\n",
       "      <td>Trần Kim Mỹ Vân</td>\n",
       "      <td>Assignment</td>\n",
       "      <td>All the submissions are being downloaded.</td>\n",
       "      <td>Assignment: Nộp báo cáo cá nhân_nhóm thực hành...</td>\n",
       "    </tr>\n",
       "    <tr>\n",
       "      <th>27212</th>\n",
       "      <td>2020-01-12</td>\n",
       "      <td>NaN</td>\n",
       "      <td>Trần Kim Mỹ Vân</td>\n",
       "      <td>Assignment</td>\n",
       "      <td>All the submissions are being downloaded.</td>\n",
       "      <td>Assignment: Nộp báo cáo cá nhân_nhóm thực hành...</td>\n",
       "    </tr>\n",
       "    <tr>\n",
       "      <th>27507</th>\n",
       "      <td>2020-11-30</td>\n",
       "      <td>NaN</td>\n",
       "      <td>Trần Kim Mỹ Vân</td>\n",
       "      <td>Assignment</td>\n",
       "      <td>All the submissions are being downloaded.</td>\n",
       "      <td>Assignment: Nộp báo cáo cá nhân_nhóm thực hành...</td>\n",
       "    </tr>\n",
       "    <tr>\n",
       "      <th>27509</th>\n",
       "      <td>2020-11-30</td>\n",
       "      <td>NaN</td>\n",
       "      <td>Trần Kim Mỹ Vân</td>\n",
       "      <td>Assignment</td>\n",
       "      <td>All the submissions are being downloaded.</td>\n",
       "      <td>Assignment: Nộp báo cáo cá nhân_nhóm thực hành...</td>\n",
       "    </tr>\n",
       "    <tr>\n",
       "      <th>27516</th>\n",
       "      <td>2020-11-30</td>\n",
       "      <td>NaN</td>\n",
       "      <td>Trần Kim Mỹ Vân</td>\n",
       "      <td>Assignment</td>\n",
       "      <td>All the submissions are being downloaded.</td>\n",
       "      <td>Assignment: Nộp báo cáo cá nhân_nhóm thực hành...</td>\n",
       "    </tr>\n",
       "    <tr>\n",
       "      <th>27518</th>\n",
       "      <td>2020-11-30</td>\n",
       "      <td>NaN</td>\n",
       "      <td>Trần Kim Mỹ Vân</td>\n",
       "      <td>Assignment</td>\n",
       "      <td>All the submissions are being downloaded.</td>\n",
       "      <td>Assignment: Nộp báo cáo cá nhân_nhóm thực hành...</td>\n",
       "    </tr>\n",
       "    <tr>\n",
       "      <th>32287</th>\n",
       "      <td>2020-11-18</td>\n",
       "      <td>NaN</td>\n",
       "      <td>Trần Kim Mỹ Vân</td>\n",
       "      <td>Assignment</td>\n",
       "      <td>All the submissions are being downloaded.</td>\n",
       "      <td>Assignment: Nộp Báo cáo thực hành LAB - Nhóm I...</td>\n",
       "    </tr>\n",
       "    <tr>\n",
       "      <th>32289</th>\n",
       "      <td>2020-11-18</td>\n",
       "      <td>NaN</td>\n",
       "      <td>Trần Kim Mỹ Vân</td>\n",
       "      <td>Assignment</td>\n",
       "      <td>All the submissions are being downloaded.</td>\n",
       "      <td>Assignment: Nộp Báo cáo thực hành LAB - Nhóm I...</td>\n",
       "    </tr>\n",
       "    <tr>\n",
       "      <th>66695</th>\n",
       "      <td>2020-10-16</td>\n",
       "      <td>NaN</td>\n",
       "      <td>Trần Kim Mỹ Vân</td>\n",
       "      <td>Assignment</td>\n",
       "      <td>All the submissions are being downloaded.</td>\n",
       "      <td>Assignment: Nộp bài thực hành buổi 4_nhóm 25T-...</td>\n",
       "    </tr>\n",
       "    <tr>\n",
       "      <th>66697</th>\n",
       "      <td>2020-10-16</td>\n",
       "      <td>NaN</td>\n",
       "      <td>Trần Kim Mỹ Vân</td>\n",
       "      <td>Assignment</td>\n",
       "      <td>All the submissions are being downloaded.</td>\n",
       "      <td>Assignment: Nộp bài thực hành buổi 4_nhóm 25T-...</td>\n",
       "    </tr>\n",
       "  </tbody>\n",
       "</table>\n",
       "</div>"
      ],
      "text/plain": [
       "             Time   ID             Name   Component  \\\n",
       "21492  2020-06-12  NaN    Hoàng Lê Minh  Assignment   \n",
       "21496  2020-06-12  NaN    Hoàng Lê Minh  Assignment   \n",
       "21516  2020-06-12  NaN    Hoàng Lê Minh  Assignment   \n",
       "21534  2020-06-12  NaN    Hoàng Lê Minh  Assignment   \n",
       "21539  2020-06-12  NaN    Hoàng Lê Minh  Assignment   \n",
       "21541  2020-06-12  NaN    Hoàng Lê Minh  Assignment   \n",
       "27210  2020-01-12  NaN  Trần Kim Mỹ Vân  Assignment   \n",
       "27212  2020-01-12  NaN  Trần Kim Mỹ Vân  Assignment   \n",
       "27507  2020-11-30  NaN  Trần Kim Mỹ Vân  Assignment   \n",
       "27509  2020-11-30  NaN  Trần Kim Mỹ Vân  Assignment   \n",
       "27516  2020-11-30  NaN  Trần Kim Mỹ Vân  Assignment   \n",
       "27518  2020-11-30  NaN  Trần Kim Mỹ Vân  Assignment   \n",
       "32287  2020-11-18  NaN  Trần Kim Mỹ Vân  Assignment   \n",
       "32289  2020-11-18  NaN  Trần Kim Mỹ Vân  Assignment   \n",
       "66695  2020-10-16  NaN  Trần Kim Mỹ Vân  Assignment   \n",
       "66697  2020-10-16  NaN  Trần Kim Mỹ Vân  Assignment   \n",
       "\n",
       "                                      Event name  \\\n",
       "21492  All the submissions are being downloaded.   \n",
       "21496  All the submissions are being downloaded.   \n",
       "21516  All the submissions are being downloaded.   \n",
       "21534  All the submissions are being downloaded.   \n",
       "21539  All the submissions are being downloaded.   \n",
       "21541  All the submissions are being downloaded.   \n",
       "27210  All the submissions are being downloaded.   \n",
       "27212  All the submissions are being downloaded.   \n",
       "27507  All the submissions are being downloaded.   \n",
       "27509  All the submissions are being downloaded.   \n",
       "27516  All the submissions are being downloaded.   \n",
       "27518  All the submissions are being downloaded.   \n",
       "32287  All the submissions are being downloaded.   \n",
       "32289  All the submissions are being downloaded.   \n",
       "66695  All the submissions are being downloaded.   \n",
       "66697  All the submissions are being downloaded.   \n",
       "\n",
       "                                           Event context  \n",
       "21492    Assignment: Nộp file báo cáo cá nhân hoàn thiện  \n",
       "21496    Assignment: Nộp file báo cáo cá nhân hoàn thiện  \n",
       "21516    Assignment: Nộp file báo cáo cá nhân hoàn thiện  \n",
       "21534    Assignment: Nộp file báo cáo cá nhân hoàn thiện  \n",
       "21539    Assignment: Nộp file báo cáo cá nhân hoàn thiện  \n",
       "21541    Assignment: Nộp file báo cáo cá nhân hoàn thiện  \n",
       "27210  Assignment: Nộp báo cáo cá nhân_nhóm thực hành...  \n",
       "27212  Assignment: Nộp báo cáo cá nhân_nhóm thực hành...  \n",
       "27507  Assignment: Nộp báo cáo cá nhân_nhóm thực hành...  \n",
       "27509  Assignment: Nộp báo cáo cá nhân_nhóm thực hành...  \n",
       "27516  Assignment: Nộp báo cáo cá nhân_nhóm thực hành...  \n",
       "27518  Assignment: Nộp báo cáo cá nhân_nhóm thực hành...  \n",
       "32287  Assignment: Nộp Báo cáo thực hành LAB - Nhóm I...  \n",
       "32289  Assignment: Nộp Báo cáo thực hành LAB - Nhóm I...  \n",
       "66695  Assignment: Nộp bài thực hành buổi 4_nhóm 25T-...  \n",
       "66697  Assignment: Nộp bài thực hành buổi 4_nhóm 25T-...  "
      ]
     },
     "execution_count": 63,
     "metadata": {},
     "output_type": "execute_result"
    }
   ],
   "source": [
    "dataTea.loc[dataTea[\"Event name\"] == \"All the submissions are being downloaded.\"]"
   ]
  },
  {
   "cell_type": "code",
   "execution_count": 65,
   "id": "82ffdfa2",
   "metadata": {},
   "outputs": [],
   "source": []
  },
  {
   "cell_type": "code",
   "execution_count": null,
   "id": "5b5d2f3b",
   "metadata": {},
   "outputs": [],
   "source": []
  }
 ],
 "metadata": {
  "kernelspec": {
   "display_name": "Python 3",
   "language": "python",
   "name": "python3"
  },
  "language_info": {
   "codemirror_mode": {
    "name": "ipython",
    "version": 3
   },
   "file_extension": ".py",
   "mimetype": "text/x-python",
   "name": "python",
   "nbconvert_exporter": "python",
   "pygments_lexer": "ipython3",
   "version": "3.9.5"
  }
 },
 "nbformat": 4,
 "nbformat_minor": 5
}
